{
 "cells": [
  {
   "attachments": {},
   "cell_type": "markdown",
   "metadata": {},
   "source": [
    "# Montecarlo\n",
    "se puede explicar como crear una simulación para un experimento y mediante estadistica, llegár a lo más comun que puede ocurrir.\n",
    "\n",
    "Es famosisimo el ejemplo de calcular Pi usando el metodo montecarlo,\n",
    "en un area cuadrada 2 x 2 (area 4) llenamos de puntos aleatorios,\n",
    "luego contamos los que estan dentro del area de un circulo dentro de este cuadrado\n"
   ]
  },
  {
   "cell_type": "code",
   "execution_count": null,
   "metadata": {},
   "outputs": [],
   "source": []
  },
  {
   "attachments": {},
   "cell_type": "markdown",
   "metadata": {},
   "source": [
    "debido a que aprovechamos la probabilidad de que caiga dentro de el circulo es igual al area del circulo dividida por el area del cuadrado\n",
    "sea $circ$ el suceso de que el punto aleatorio se encuetre dentro del circulo, $A_c$ el area del circulo y $A_{sq}$ el area del cuadrado, donde $r$ es el radio del circulo y $2r$ mide cada lado del cuadrado\n",
    "\n",
    "$$\n",
    "P(circ) = \\frac{A_c}{A_{sq}} = \\frac{\\pi r^2}{(2r)}\n",
    "$$"
   ]
  }
 ],
 "metadata": {
  "language_info": {
   "name": "python"
  },
  "orig_nbformat": 4
 },
 "nbformat": 4,
 "nbformat_minor": 2
}
