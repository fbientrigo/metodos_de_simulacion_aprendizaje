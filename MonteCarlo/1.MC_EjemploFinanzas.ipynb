{
 "cells": [
  {
   "cell_type": "code",
   "execution_count": 2,
   "metadata": {},
   "outputs": [],
   "source": [
    "import numpy as np\n",
    "import pandas as pd\n",
    "import matplotlib.pyplot as plt\n",
    "\n",
    "np.random.seed(66261034)"
   ]
  },
  {
   "attachments": {},
   "cell_type": "markdown",
   "metadata": {},
   "source": [
    "Tengase data de la forma de vendedores, que calculamos cuanto de su plan de venta consiguieron y dependiendo de ese porcentaje reciben un porcentaje de comisión, en base a ese porcentaje y cuanto vendieron se define cuanto ganan"
   ]
  },
  {
   "cell_type": "code",
   "execution_count": 3,
   "metadata": {},
   "outputs": [
    {
     "data": {
      "text/html": [
       "<div>\n",
       "<style scoped>\n",
       "    .dataframe tbody tr th:only-of-type {\n",
       "        vertical-align: middle;\n",
       "    }\n",
       "\n",
       "    .dataframe tbody tr th {\n",
       "        vertical-align: top;\n",
       "    }\n",
       "\n",
       "    .dataframe thead th {\n",
       "        text-align: right;\n",
       "    }\n",
       "</style>\n",
       "<table border=\"1\" class=\"dataframe\">\n",
       "  <thead>\n",
       "    <tr style=\"text-align: right;\">\n",
       "      <th></th>\n",
       "      <th>sales_representant</th>\n",
       "      <th>sales_target</th>\n",
       "      <th>sales_real</th>\n",
       "      <th>percent_plan</th>\n",
       "      <th>commision_rate</th>\n",
       "      <th>commision</th>\n",
       "    </tr>\n",
       "  </thead>\n",
       "  <tbody>\n",
       "    <tr>\n",
       "      <th>0</th>\n",
       "      <td>1</td>\n",
       "      <td>150000</td>\n",
       "      <td>88000</td>\n",
       "      <td>0.586667</td>\n",
       "      <td>0.00</td>\n",
       "      <td>0.0</td>\n",
       "    </tr>\n",
       "    <tr>\n",
       "      <th>1</th>\n",
       "      <td>2</td>\n",
       "      <td>200000</td>\n",
       "      <td>202000</td>\n",
       "      <td>1.010000</td>\n",
       "      <td>0.04</td>\n",
       "      <td>8080.0</td>\n",
       "    </tr>\n",
       "    <tr>\n",
       "      <th>2</th>\n",
       "      <td>3</td>\n",
       "      <td>400000</td>\n",
       "      <td>90000</td>\n",
       "      <td>0.225000</td>\n",
       "      <td>0.00</td>\n",
       "      <td>0.0</td>\n",
       "    </tr>\n",
       "    <tr>\n",
       "      <th>3</th>\n",
       "      <td>4</td>\n",
       "      <td>500000</td>\n",
       "      <td>360000</td>\n",
       "      <td>0.720000</td>\n",
       "      <td>0.02</td>\n",
       "      <td>7200.0</td>\n",
       "    </tr>\n",
       "    <tr>\n",
       "      <th>4</th>\n",
       "      <td>5</td>\n",
       "      <td>75000</td>\n",
       "      <td>35000</td>\n",
       "      <td>0.466667</td>\n",
       "      <td>0.00</td>\n",
       "      <td>0.0</td>\n",
       "    </tr>\n",
       "  </tbody>\n",
       "</table>\n",
       "</div>"
      ],
      "text/plain": [
       "   sales_representant  sales_target  sales_real  percent_plan  commision_rate  \\\n",
       "0                   1        150000       88000      0.586667            0.00   \n",
       "1                   2        200000      202000      1.010000            0.04   \n",
       "2                   3        400000       90000      0.225000            0.00   \n",
       "3                   4        500000      360000      0.720000            0.02   \n",
       "4                   5         75000       35000      0.466667            0.00   \n",
       "\n",
       "   commision  \n",
       "0        0.0  \n",
       "1     8080.0  \n",
       "2        0.0  \n",
       "3     7200.0  \n",
       "4        0.0  "
      ]
     },
     "execution_count": 3,
     "metadata": {},
     "output_type": "execute_result"
    }
   ],
   "source": [
    "sales_rep = [1,2,3,4,5]\n",
    "sales_targ = [150000, 200000, 400000, 500000,75000]\n",
    "actual_sales = [88000, 202000,90000,360000,35000]\n",
    "\n",
    "def tabla_ventas(sales_rep, sales_targ, actual_sales):\n",
    "    df = pd.DataFrame({\n",
    "        'sales_representant': sales_rep, 'sales_target': sales_targ,\n",
    "        'sales_real': actual_sales\n",
    "    })\n",
    "\n",
    "    df['percent_plan'] = df.sales_real / df.sales_target\n",
    "    def commision_rate(p):\n",
    "        if p < 0.7:\n",
    "            return 0\n",
    "        elif p < 0.8:\n",
    "            return 0.02\n",
    "        elif p < 0.99:\n",
    "            return 0.03\n",
    "        elif p >= 0.99:\n",
    "            return 0.04\n",
    "\n",
    "    df['commision_rate'] =  list(map(commision_rate, df.percent_plan))\n",
    "    df['commision'] = df.commision_rate * df.sales_real\n",
    "    return df\n",
    "\n",
    "df = tabla_ventas(sales_rep, sales_targ, actual_sales)\n",
    "df"
   ]
  },
  {
   "cell_type": "code",
   "execution_count": 4,
   "metadata": {},
   "outputs": [
    {
     "data": {
      "text/plain": [
       "15280.0"
      ]
     },
     "execution_count": 4,
     "metadata": {},
     "output_type": "execute_result"
    }
   ],
   "source": [
    "# y hemos de pagar un total de:\n",
    "df.sum().commision"
   ]
  },
  {
   "attachments": {},
   "cell_type": "markdown",
   "metadata": {},
   "source": [
    "Se nos da el problema de cuanto dinero deberiamos guardar para pagarle a los empleados, \n",
    "# Forma facil pero poco realista\n",
    "si asumimos que todos logran el 100% de su meta nos entregaria "
   ]
  },
  {
   "cell_type": "code",
   "execution_count": 5,
   "metadata": {},
   "outputs": [
    {
     "data": {
      "text/html": [
       "<div>\n",
       "<style scoped>\n",
       "    .dataframe tbody tr th:only-of-type {\n",
       "        vertical-align: middle;\n",
       "    }\n",
       "\n",
       "    .dataframe tbody tr th {\n",
       "        vertical-align: top;\n",
       "    }\n",
       "\n",
       "    .dataframe thead th {\n",
       "        text-align: right;\n",
       "    }\n",
       "</style>\n",
       "<table border=\"1\" class=\"dataframe\">\n",
       "  <thead>\n",
       "    <tr style=\"text-align: right;\">\n",
       "      <th></th>\n",
       "      <th>sales_representant</th>\n",
       "      <th>sales_target</th>\n",
       "      <th>sales_real</th>\n",
       "      <th>percent_plan</th>\n",
       "      <th>commision_rate</th>\n",
       "      <th>commision</th>\n",
       "    </tr>\n",
       "  </thead>\n",
       "  <tbody>\n",
       "    <tr>\n",
       "      <th>0</th>\n",
       "      <td>1</td>\n",
       "      <td>150000</td>\n",
       "      <td>150000</td>\n",
       "      <td>1.0</td>\n",
       "      <td>0.04</td>\n",
       "      <td>6000.0</td>\n",
       "    </tr>\n",
       "    <tr>\n",
       "      <th>1</th>\n",
       "      <td>2</td>\n",
       "      <td>200000</td>\n",
       "      <td>200000</td>\n",
       "      <td>1.0</td>\n",
       "      <td>0.04</td>\n",
       "      <td>8000.0</td>\n",
       "    </tr>\n",
       "    <tr>\n",
       "      <th>2</th>\n",
       "      <td>3</td>\n",
       "      <td>400000</td>\n",
       "      <td>400000</td>\n",
       "      <td>1.0</td>\n",
       "      <td>0.04</td>\n",
       "      <td>16000.0</td>\n",
       "    </tr>\n",
       "    <tr>\n",
       "      <th>3</th>\n",
       "      <td>4</td>\n",
       "      <td>500000</td>\n",
       "      <td>500000</td>\n",
       "      <td>1.0</td>\n",
       "      <td>0.04</td>\n",
       "      <td>20000.0</td>\n",
       "    </tr>\n",
       "    <tr>\n",
       "      <th>4</th>\n",
       "      <td>5</td>\n",
       "      <td>75000</td>\n",
       "      <td>75000</td>\n",
       "      <td>1.0</td>\n",
       "      <td>0.04</td>\n",
       "      <td>3000.0</td>\n",
       "    </tr>\n",
       "  </tbody>\n",
       "</table>\n",
       "</div>"
      ],
      "text/plain": [
       "   sales_representant  sales_target  sales_real  percent_plan  commision_rate  \\\n",
       "0                   1        150000      150000           1.0            0.04   \n",
       "1                   2        200000      200000           1.0            0.04   \n",
       "2                   3        400000      400000           1.0            0.04   \n",
       "3                   4        500000      500000           1.0            0.04   \n",
       "4                   5         75000       75000           1.0            0.04   \n",
       "\n",
       "   commision  \n",
       "0     6000.0  \n",
       "1     8000.0  \n",
       "2    16000.0  \n",
       "3    20000.0  \n",
       "4     3000.0  "
      ]
     },
     "execution_count": 5,
     "metadata": {},
     "output_type": "execute_result"
    }
   ],
   "source": [
    "df100 = tabla_ventas(sales_rep, sales_targ, sales_targ)\n",
    "df100"
   ]
  },
  {
   "cell_type": "code",
   "execution_count": 6,
   "metadata": {},
   "outputs": [
    {
     "data": {
      "text/plain": [
       "53000.0"
      ]
     },
     "execution_count": 6,
     "metadata": {},
     "output_type": "execute_result"
    }
   ],
   "source": [
    "# y hemos de pagar un total de:\n",
    "df100.sum().commision"
   ]
  },
  {
   "attachments": {},
   "cell_type": "markdown",
   "metadata": {},
   "source": [
    "el problema aqui es que es muy poco probable que todos hagan el 100%, esta situacion no tiene muchas cosas en cuenta\n",
    "\n",
    "# Metodo Montecarlo\n",
    "\n",
    "Gracias a que existe una base de datos, sabemos que se comporta como una variable normal el porcentaje de comisión, con una media y una desviacion estandar historica\n",
    "\n",
    "Definimos la variable aleatoria, podriamos tomar la cantidad de ventas que realizan, o directamente el porcentaje que venden:\n",
    "\n",
    "$X$ : Porcentaje de ventas, de 0 a infinito\n",
    "\n",
    "$X$ sigue una distribución normal, con media $1$ (100%) y desviacion estandar de $0.1$ (10%)\n",
    "\n",
    "$$X : N(\\mu=1, \\sigma = 0.1)$$\n"
   ]
  },
  {
   "cell_type": "code",
   "execution_count": 7,
   "metadata": {},
   "outputs": [],
   "source": [
    "mu = 1\n",
    "sigma = 0.1\n",
    "n_vendedores = 100 # generaremos 500 muestras\n",
    "N_sim = 100 # numero de simulaciones a realizar"
   ]
  },
  {
   "cell_type": "code",
   "execution_count": 8,
   "metadata": {},
   "outputs": [
    {
     "data": {
      "text/plain": [
       "array([1.07, 1.14, 0.87, 1.08, 0.87, 0.89, 0.89, 0.96, 1.14, 0.9 , 0.94,\n",
       "       1.11, 1.05, 1.02, 0.81, 0.9 , 0.93, 1.04, 0.99, 0.92, 0.96, 0.94,\n",
       "       1.1 , 0.93, 0.9 , 0.98, 1.02, 1.03, 1.09, 1.05, 1.02, 0.91, 0.91,\n",
       "       1.07, 0.98, 0.89, 0.92, 0.96, 1.02, 1.01, 1.04, 1.07, 1.09, 0.9 ,\n",
       "       0.92, 1.12, 1.06, 0.84, 0.88, 1.18, 0.95, 1.01, 0.92, 1.07, 1.  ,\n",
       "       0.74, 0.77, 1.19, 1.16, 1.16, 0.91, 1.05, 1.07, 0.91, 1.2 , 0.96,\n",
       "       1.12, 1.08, 1.14, 1.1 , 1.04, 0.93, 0.97, 1.09, 0.92, 0.93, 1.14,\n",
       "       1.12, 0.92, 0.93, 0.98, 0.95, 1.04, 1.01, 0.82, 1.01, 0.82, 1.22,\n",
       "       0.79, 1.08, 0.89, 1.  , 1.  , 1.08, 1.  , 1.03, 0.98, 1.03, 1.16,\n",
       "       0.97])"
      ]
     },
     "execution_count": 8,
     "metadata": {},
     "output_type": "execute_result"
    }
   ],
   "source": [
    "np.random.normal(mu, sigma, n_vendedores).round(2)"
   ]
  },
  {
   "attachments": {},
   "cell_type": "markdown",
   "metadata": {},
   "source": [
    "mientras que el dinero que suelen pedir es muy comun encontrarlo en los 100000 y rapidamente disminuye mientras aumenta la cantidad, podemos usar una distribucion exponencial para hacerlo similar\n",
    "\n",
    "$$\n",
    "f(x;\\lambda) = \\lambda e^{-\\lambda x}\n",
    "$$\n",
    "\n",
    "donde numpy.random.exponential($\\beta$)\n",
    "$$\n",
    "\\beta = \\frac{1}{\\lambda}\n",
    "$$\n",
    "\n",
    "en esta distribución, el valor esperado es $\\beta$\n",
    "$$\n",
    "\\mathbb E[X] = \\frac{1}{\\lambda}\n",
    "$$"
   ]
  },
  {
   "cell_type": "code",
   "execution_count": 9,
   "metadata": {},
   "outputs": [
    {
     "data": {
      "text/plain": [
       "(array([25., 23.,  9.,  8.,  9.,  6.,  4.,  7.,  4.,  5.]),\n",
       " array([2.51000000e+02, 3.30153610e+04, 6.57797220e+04, 9.85440830e+04,\n",
       "        1.31308444e+05, 1.64072805e+05, 1.96837166e+05, 2.29601527e+05,\n",
       "        2.62365888e+05, 2.95130249e+05, 3.27894610e+05]),\n",
       " <BarContainer object of 10 artists>)"
      ]
     },
     "execution_count": 9,
     "metadata": {},
     "output_type": "execute_result"
    },
    {
     "data": {
      "image/png": "[encoded data removed]",
      "text/plain": [
       "<Figure size 640x480 with 1 Axes>"
      ]
     },
     "metadata": {},
     "output_type": "display_data"
    }
   ],
   "source": [
    "parametro_beta = 100000 # elegido sin ningun argumento atras\n",
    "exponential_values = np.random.exponential(parametro_beta, 100).round(2)\n",
    "plt.hist(exponential_values)"
   ]
  },
  {
   "attachments": {},
   "cell_type": "markdown",
   "metadata": {},
   "source": [
    "## explicación exponencial\n",
    "$$ \\lambda e^{-\\lambda x} $$\n",
    "\n",
    "$\\lambda$ es proporcional a que tan rapido ocurren las cosas, en este caso será la meta que se le dio a cada persona."
   ]
  },
  {
   "attachments": {},
   "cell_type": "markdown",
   "metadata": {},
   "source": [
    "### estimación de parametros: Maxima Similitud\n",
    "es sumamente importante que paramtro le damos a la distribución, por ello hemos de utilizar una estimación de parametro.\n",
    "Esto es un extra, creamos la función de similitud para encontrar el mejor parametro para $\\lambda$\n",
    "$$\n",
    "L(\\lambda) = \\Pi_{i=1}^n \\lambda e^{-\\lambda x_i} = \\lambda^n \\exp( -\\lambda \\sum_{i=1}^n  x_i) = \\lambda^n e^{-\\lambda n \\bar x}\n",
    "$$\n",
    "\n",
    "donde\n",
    "$$\n",
    "\\bar x = \\frac{1}{n} \\sum_{i=1}^n x_i\n",
    "$$\n",
    "\n",
    "La meta de similitud maxima es obtener el parametro dado una muestra de datos tengamos un parametro ($\\lambda$) que maximice la similitud, estamos frente a un problema de maximos, por tanto tomamos la derivada con respoectoa  lambda y la hacemos 0\n",
    "\n",
    "$$\n",
    "\\frac{d}{d\\lambda} L(\\lambda) = \\frac{d}{d\\lambda} \\lambda^n e^{-\\lambda n \\bar x} = 0\n",
    "$$\n",
    "derivada de un producto\n",
    "$$\n",
    "n \\lambda^{n-1} e^{-\\lambda n \\bar x} - n \\bar x \\lambda^{n} e^{-\\lambda n \\bar x} = 0\n",
    "$$\n",
    "igualando a 0 despejamos\n",
    "$$\n",
    "\\frac{n}{\\lambda} - n \\bar x = 0 \\Rightarrow \\lambda = \\frac{1}{\\bar x}\n",
    "$$\n",
    "\n",
    "### Bias\n",
    "este tema no es necesario entenderlo y es mas que nada estadistico:\n",
    "\n",
    "un estimador sin bias cumplira que el valor de expectación del paramtro estimado $\\hat \\lambda$ sera igual al parametro poblacional:\n",
    "$$\n",
    "E[\\hat \\lambda] = \\lambda\n",
    "$$\n",
    "\n",
    "si $X$ tiene distribucion exponencial $Exp(\\lambda)$ entonces la suma $\\sum^n X$ tiene distribucion $Gamma(n,\\lambda)$, definimos $y= \\sum_{i=1}^n x_i$\n",
    "\n",
    "entonces:\n",
    "$$\n",
    "E[\\hat \\lambda] = E[\\frac{n}{\\sum_{i=1}^n x_i }] = E[\\frac{n}{y}] = n E[\\frac{1}{y}]\n",
    "$$\n",
    "\n",
    "donde la distribución o función de densidad de la gamma:\n",
    "$$\n",
    "f_{\\lambda,n}(y) = \\frac{\\lambda^n}{\\Gamma(n)} y^{n-1} e^{- y \\lambda}\n",
    "$$\n",
    "\n",
    "asi el valor esperado queda de la forma:\n",
    "$$\n",
    "n E[\\frac{1}{y}]= n \\int_0^\\infty \\frac{1}{y} f_{\\lambda,n}(y)dy = n  \\int_0^\\infty  \\frac{1}{y}  \\frac{\\lambda^n}{\\Gamma(n)} y^{n-1} e^{- y \\lambda} dy\n",
    "$$\n",
    "\n",
    "$$\n",
    "\n",
    "n \\frac{\\lambda^n}{\\Gamma(n)} \\int_0^\\infty y^{n-2} e^{- \\lambda y} dy = \\frac{n}{n-1} \\lambda\n",
    "$$\n",
    "\n",
    "entonces el estimador sin bias:\n",
    "$$\n",
    "\\hat \\lambda^* = \\frac{n-1}{\\sum x_i}\n",
    "$$\n",
    "\n"
   ]
  },
  {
   "cell_type": "code",
   "execution_count": 10,
   "metadata": {},
   "outputs": [
    {
     "data": {
      "text/plain": [
       "Text(0.5, 0, 'Ventas en dolares $')"
      ]
     },
     "execution_count": 10,
     "metadata": {},
     "output_type": "execute_result"
    },
    {
     "data": {
      "image/png": "[encoded data removed]",
      "text/plain": [
       "<Figure size 640x480 with 1 Axes>"
      ]
     },
     "metadata": {},
     "output_type": "display_data"
    }
   ],
   "source": [
    "# datos historicos\n",
    "df_historic = pd.DataFrame({'sales_real': [9.4651870e+04, 2.2567869e+05, 1.0414970e+04, 1.7153867e+05,\n",
    "       1.3291690e+05, 3.9743300e+03, 3.1119388e+05, 3.9062200e+04,\n",
    "       7.6429130e+04, 2.0845520e+05, 3.0458035e+05, 6.8118372e+05,\n",
    "       1.0586740e+05, 1.7577691e+05, 9.0652680e+04, 2.8135934e+05,\n",
    "       4.7970240e+04, 1.0747513e+05, 2.3721303e+05, 2.4840126e+05,\n",
    "       6.5103872e+05, 8.2392260e+04, 2.6064020e+04, 1.8195884e+05,\n",
    "       1.0198801e+05, 2.0214200e+03, 7.7409720e+04, 4.0968280e+04,\n",
    "       1.3835895e+05, 5.7914850e+05, 4.6806163e+05, 2.6947980e+04,\n",
    "       9.6177420e+04, 8.3484150e+04, 7.4401070e+05, 7.9820330e+04,\n",
    "       2.0910671e+05, 1.4230083e+05, 1.4822600e+03, 2.3986471e+05,\n",
    "       1.3495408e+05, 3.4497318e+05, 2.2632324e+05, 1.3484753e+05,\n",
    "       4.3565544e+05, 1.6811261e+05, 2.4214644e+05, 1.9898900e+04,\n",
    "       4.7771280e+04, 1.8006828e+05, 5.5981140e+04, 1.9002600e+04,\n",
    "       1.5773789e+05, 1.1705400e+04, 7.8588798e+05, 5.8413100e+04,\n",
    "       3.0007275e+05, 3.6624000e+02, 2.6231100e+03, 1.0628789e+05,\n",
    "       1.3983883e+05, 1.4193123e+05, 4.4016700e+03, 3.7642990e+04,\n",
    "       4.3731386e+05, 1.8565072e+05, 4.3422221e+05, 1.7287387e+05,\n",
    "       1.9237808e+05, 1.1987788e+05, 5.8329457e+05, 7.2904003e+05,\n",
    "       4.9068990e+04, 3.8234091e+05, 3.0702839e+05, 1.6743120e+04,\n",
    "       1.4721135e+05, 1.7271740e+04, 7.0335740e+04, 3.4139286e+05,\n",
    "       9.5258580e+04, 8.0414250e+04, 1.8260782e+05, 1.7584520e+04,\n",
    "       1.5397585e+05, 6.5328709e+05, 5.3808520e+04, 1.3352290e+04,\n",
    "       3.0290700e+03, 2.4652168e+05, 8.9525530e+04, 2.9590977e+05,\n",
    "       3.0879331e+05, 2.2573770e+04, 2.4160174e+05, 3.1608780e+05,\n",
    "       4.4593288e+05, 6.3110842e+05, 1.2344799e+05, 2.6446813e+05] })\n",
    "\n",
    "plt.hist(df_historic.sales_real)\n",
    "plt.title('Ventas Historicas')\n",
    "plt.ylabel('count')\n",
    "plt.xlabel('Ventas en dolares $')"
   ]
  },
  {
   "cell_type": "code",
   "execution_count": 14,
   "metadata": {},
   "outputs": [
    {
     "name": "stdout",
     "output_type": "stream",
     "text": [
      "lambda: 5.022989443867532e-06\n",
      "beta = 1/ lambda = 199084.631010101\n"
     ]
    },
    {
     "data": {
      "text/plain": [
       "Text(0.5, 0, 'Ventas en 1 millon dolares: 1e6 = 1000000$ ')"
      ]
     },
     "execution_count": 14,
     "metadata": {},
     "output_type": "execute_result"
    },
    {
     "data": {
      "image/png": "[encoded data removed]",
      "text/plain": [
       "<Figure size 640x480 with 1 Axes>"
      ]
     },
     "metadata": {},
     "output_type": "display_data"
    }
   ],
   "source": [
    "data = df_historic\n",
    "n = len(data.sales_real)\n",
    "parametro_lambda = (n-1) / (data.sales_real.sum())\n",
    "\n",
    "print(f\"lambda: {parametro_lambda}\")\n",
    "print(f\"beta = 1/ lambda = {1/parametro_lambda}\")\n",
    "\n",
    "# Creamos la distribucion\n",
    "N = 300 \n",
    "\n",
    "parametro_beta = 1/parametro_lambda # elegido sin ningun argumento atras\n",
    "montecarlo_values = np.random.exponential(parametro_beta, N).round(2)\n",
    "\n",
    "plt.hist(montecarlo_values,\n",
    "    label='valores aleatorios')\n",
    "plt.hist(data.sales_real,\n",
    "    label='ventas historicas')\n",
    "\n",
    "plt.title(r'Objetivo ventas aleatorias con distribucion exponencial $f(x) = \\lambda e^{-\\lambda x}$')\n",
    "\n",
    "plt.ylabel(r'$\\lambda$' + f'={parametro_lambda:.6}')\n",
    "plt.vlines(parametro_beta, 0, 150, \n",
    "    label=r'valor de expectación $E[X] = \\frac{1}{\\lambda}=$' + f'{parametro_beta:.0f}', colors='r')\n",
    "plt.legend()\n",
    "plt.xlabel(f'Ventas en 1 millon dolares: 1e6 = {10**6}$ ')"
   ]
  },
  {
   "cell_type": "code",
   "execution_count": 15,
   "metadata": {},
   "outputs": [],
   "source": [
    "N = 300\n",
    "\n",
    "# objetivo de ventas: distribucion exponencial\n",
    "objetivo_ventas = np.random.exponential(parametro_beta, N).round(2)\n",
    "# porcentjae de ventas: distribucion normal\n",
    "mu = 1.0\n",
    "sigma = 0.1\n",
    "porcentaje_ventas = np.random.normal(mu, sigma, N).round(2)"
   ]
  },
  {
   "cell_type": "code",
   "execution_count": 18,
   "metadata": {},
   "outputs": [],
   "source": [
    "def commision_rate(p):\n",
    "        if p < 0.7:\n",
    "            return 0\n",
    "        elif p < 0.8:\n",
    "            return 0.02\n",
    "        elif p < 0.99:\n",
    "            return 0.03\n",
    "        elif p >= 0.99:\n",
    "            return 0.04"
   ]
  },
  {
   "cell_type": "code",
   "execution_count": null,
   "metadata": {},
   "outputs": [],
   "source": [
    "def tabla_ventas(sales_rep, sales_targ, actual_sales):\n",
    "    df = pd.DataFrame({\n",
    "        'sales_representant': sales_rep, 'sales_target': sales_targ,\n",
    "        'sales_real': actual_sales\n",
    "    })\n",
    "\n",
    "    df['percent_plan'] = df.sales_real / df.sales_target\n",
    "    def commision_rate(p):\n",
    "        if p < 0.7:\n",
    "            return 0\n",
    "        elif p < 0.8:\n",
    "            return 0.02\n",
    "        elif p < 0.99:\n",
    "            return 0.03\n",
    "        elif p >= 0.99:\n",
    "            return 0.04\n",
    "\n",
    "    df['commision_rate'] =  list(map(commision_rate, df.percent_plan))\n",
    "    df['commision'] = df.commision_rate * df.sales_real\n",
    "    return df"
   ]
  },
  {
   "cell_type": "code",
   "execution_count": 21,
   "metadata": {},
   "outputs": [],
   "source": [
    "df_mc = pd.DataFrame({\n",
    "    'sales_targ': objetivo_ventas,\n",
    "    'percent_plan': porcentaje_ventas\n",
    "})\n",
    "\n",
    "df_mc['sales_real'] = df_mc['sales_targ'] * df_mc['percent_plan']\n",
    "df_mc['commision_rate'] =  list(map(commision_rate, df_mc['percent_plan']))\n",
    "df_mc['commision'] = df_mc['commision_rate'] * df_mc['sales_real']"
   ]
  },
  {
   "cell_type": "code",
   "execution_count": 22,
   "metadata": {},
   "outputs": [
    {
     "data": {
      "text/html": [
       "<div>\n",
       "<style scoped>\n",
       "    .dataframe tbody tr th:only-of-type {\n",
       "        vertical-align: middle;\n",
       "    }\n",
       "\n",
       "    .dataframe tbody tr th {\n",
       "        vertical-align: top;\n",
       "    }\n",
       "\n",
       "    .dataframe thead th {\n",
       "        text-align: right;\n",
       "    }\n",
       "</style>\n",
       "<table border=\"1\" class=\"dataframe\">\n",
       "  <thead>\n",
       "    <tr style=\"text-align: right;\">\n",
       "      <th></th>\n",
       "      <th>sales_targ</th>\n",
       "      <th>percent_plan</th>\n",
       "      <th>sales_real</th>\n",
       "      <th>commision_rate</th>\n",
       "      <th>commision</th>\n",
       "    </tr>\n",
       "  </thead>\n",
       "  <tbody>\n",
       "    <tr>\n",
       "      <th>0</th>\n",
       "      <td>617744.97</td>\n",
       "      <td>1.10</td>\n",
       "      <td>679519.4670</td>\n",
       "      <td>0.04</td>\n",
       "      <td>27180.778680</td>\n",
       "    </tr>\n",
       "    <tr>\n",
       "      <th>1</th>\n",
       "      <td>15592.57</td>\n",
       "      <td>0.99</td>\n",
       "      <td>15436.6443</td>\n",
       "      <td>0.04</td>\n",
       "      <td>617.465772</td>\n",
       "    </tr>\n",
       "    <tr>\n",
       "      <th>2</th>\n",
       "      <td>19015.20</td>\n",
       "      <td>1.14</td>\n",
       "      <td>21677.3280</td>\n",
       "      <td>0.04</td>\n",
       "      <td>867.093120</td>\n",
       "    </tr>\n",
       "    <tr>\n",
       "      <th>3</th>\n",
       "      <td>10602.09</td>\n",
       "      <td>0.98</td>\n",
       "      <td>10390.0482</td>\n",
       "      <td>0.03</td>\n",
       "      <td>311.701446</td>\n",
       "    </tr>\n",
       "    <tr>\n",
       "      <th>4</th>\n",
       "      <td>198928.38</td>\n",
       "      <td>0.97</td>\n",
       "      <td>192960.5286</td>\n",
       "      <td>0.03</td>\n",
       "      <td>5788.815858</td>\n",
       "    </tr>\n",
       "  </tbody>\n",
       "</table>\n",
       "</div>"
      ],
      "text/plain": [
       "   sales_targ  percent_plan   sales_real  commision_rate     commision\n",
       "0   617744.97          1.10  679519.4670            0.04  27180.778680\n",
       "1    15592.57          0.99   15436.6443            0.04    617.465772\n",
       "2    19015.20          1.14   21677.3280            0.04    867.093120\n",
       "3    10602.09          0.98   10390.0482            0.03    311.701446\n",
       "4   198928.38          0.97  192960.5286            0.03   5788.815858"
      ]
     },
     "execution_count": 22,
     "metadata": {},
     "output_type": "execute_result"
    }
   ],
   "source": [
    "df_mc.head()"
   ]
  },
  {
   "cell_type": "code",
   "execution_count": null,
   "metadata": {},
   "outputs": [],
   "source": []
  }
 ],
 "metadata": {
  "kernelspec": {
   "display_name": "base",
   "language": "python",
   "name": "python3"
  },
  "language_info": {
   "codemirror_mode": {
    "name": "ipython",
    "version": 3
   },
   "file_extension": ".py",
   "mimetype": "text/x-python",
   "name": "python",
   "nbconvert_exporter": "python",
   "pygments_lexer": "ipython3",
   "version": "3.9.13"
  },
  "orig_nbformat": 4,
  "vscode": {
   "interpreter": {
    "hash": "ad2bdc8ecc057115af97d19610ffacc2b4e99fae6737bb82f5d7fb13d2f2c186"
   }
  }
 },
 "nbformat": 4,
 "nbformat_minor": 2
}
