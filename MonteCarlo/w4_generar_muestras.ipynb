{
 "cells": [
  {
   "cell_type": "code",
   "execution_count": 2,
   "metadata": {},
   "outputs": [
    {
     "data": {
      "text/plain": [
       "array([ 0.27461965, -1.48771892,  1.88606738, ..., -0.20169817,\n",
       "       -1.07386686,  0.83791313])"
      ]
     },
     "execution_count": 2,
     "metadata": {},
     "output_type": "execute_result"
    }
   ],
   "source": [
    "import numpy as np\n",
    "import matplotlib.pyplot as plt\n",
    "import pandas as pd\n",
    "\n",
    "p = 0.5 # probabilidad de perder un dato\n",
    "sample_size = np.array([10, 100, 1000, 10000])\n",
    "redo_experiment = 300\n",
    "bias_array = []\n",
    "\n",
    "data = np.random.normal(size= sample_size.max())\n",
    "\n",
    "data\n",
    "    \n",
    "    "
   ]
  },
  {
   "cell_type": "code",
   "execution_count": 8,
   "metadata": {},
   "outputs": [
    {
     "data": {
      "text/plain": [
       "array([ True, False,  True,  True,  True, False, False,  True, False,\n",
       "       False])"
      ]
     },
     "execution_count": 8,
     "metadata": {},
     "output_type": "execute_result"
    }
   ],
   "source": [
    "missing = np.random.binomial(1, p, 10).astype(bool)\n",
    "missing"
   ]
  },
  {
   "cell_type": "code",
   "execution_count": 7,
   "metadata": {},
   "outputs": [
    {
     "data": {
      "text/plain": [
       "array([ 0.27461965, -1.48771892,  1.88606738, -0.65396462, -0.1275926 ,\n",
       "        0.54890552, -1.72346145,  0.8197359 ,  1.42503711, -0.31387526])"
      ]
     },
     "execution_count": 7,
     "metadata": {},
     "output_type": "execute_result"
    }
   ],
   "source": [
    "sample = data[:10]\n",
    "sample"
   ]
  },
  {
   "cell_type": "code",
   "execution_count": 11,
   "metadata": {},
   "outputs": [
    {
     "data": {
      "text/plain": [
       "array([-1.48771892,  0.54890552, -1.72346145,  1.42503711, -0.31387526])"
      ]
     },
     "execution_count": 11,
     "metadata": {},
     "output_type": "execute_result"
    }
   ],
   "source": [
    "sample[~missing]"
   ]
  },
  {
   "cell_type": "code",
   "execution_count": 12,
   "metadata": {},
   "outputs": [
    {
     "name": "stderr",
     "output_type": "stream",
     "text": [
      "C:\\Users\\fbien.DESKTOP-6FMEAR7\\AppData\\Local\\Temp\\ipykernel_10576\\3321727386.py:12: RuntimeWarning: Mean of empty slice.\n",
      "  bias[i] = sample_observada.mean()\n",
      "c:\\ProgramData\\Anaconda3\\lib\\site-packages\\numpy\\core\\_methods.py:189: RuntimeWarning: invalid value encountered in double_scalars\n",
      "  ret = ret.dtype.type(ret / rcount)\n"
     ]
    }
   ],
   "source": [
    "for n in sample_size:\n",
    "    sample = data[:n]\n",
    "\n",
    "    bias = np.zeros( redo_experiment )\n",
    "    for i in range(redo_experiment):\n",
    "        # por probabilidad no tendremos datos en ciertos lados\n",
    "        lost_data = np.random.binomial(1, p, n).astype(bool)\n",
    "        sample_observada = sample[~lost_data]\n",
    "\n",
    "        # producto de no ser random sampling, no tendremos una seccion\n",
    "        sample_observada = sample_observada[ sample_observada > 0]\n",
    "        bias[i] = sample_observada.mean()\n",
    "    bias_array.append(bias)"
   ]
  },
  {
   "cell_type": "code",
   "execution_count": 17,
   "metadata": {},
   "outputs": [
    {
     "name": "stdout",
     "output_type": "stream",
     "text": [
      "11 # veces que quedamos con Nan\n"
     ]
    }
   ],
   "source": [
    "print(f\"{np.sum(np.isnan(bias_array))} # veces que quedamos con Nan\")"
   ]
  },
  {
   "cell_type": "code",
   "execution_count": 27,
   "metadata": {},
   "outputs": [
    {
     "name": "stdout",
     "output_type": "stream",
     "text": [
      "[10 11 12 13 14 15 16 17 18 19 20 21 22 23 24 25 26 27 28 29 30 31 32 33\n",
      " 34 35 36 37 38 39 40 41 42 43 44 45 46 47 48 49]\n"
     ]
    }
   ],
   "source": [
    "lista = [10,20,30,40,50]\n",
    "numeros = np.array([i for i in range(10,50)])\n",
    "print(numeros)"
   ]
  },
  {
   "cell_type": "code",
   "execution_count": 31,
   "metadata": {},
   "outputs": [
    {
     "data": {
      "text/plain": [
       "[array([10, 11, 12, 13, 14, 15, 16, 17]),\n",
       " array([18, 19, 20, 21, 22, 23, 24, 25]),\n",
       " array([26, 27, 28, 29, 30, 31, 32, 33]),\n",
       " array([34, 35, 36, 37, 38, 39, 40, 41]),\n",
       " array([42, 43, 44, 45, 46, 47, 48, 49])]"
      ]
     },
     "execution_count": 31,
     "metadata": {},
     "output_type": "execute_result"
    }
   ],
   "source": [
    "np.split(numeros, 5) # 5 cantidad de sub arrays"
   ]
  },
  {
   "attachments": {},
   "cell_type": "markdown",
   "metadata": {},
   "source": [
    "## Plotting"
   ]
  },
  {
   "cell_type": "code",
   "execution_count": null,
   "metadata": {},
   "outputs": [],
   "source": []
  }
 ],
 "metadata": {
  "kernelspec": {
   "display_name": "base",
   "language": "python",
   "name": "python3"
  },
  "language_info": {
   "codemirror_mode": {
    "name": "ipython",
    "version": 3
   },
   "file_extension": ".py",
   "mimetype": "text/x-python",
   "name": "python",
   "nbconvert_exporter": "python",
   "pygments_lexer": "ipython3",
   "version": "3.9.13 (main, Aug 25 2022, 23:51:50) [MSC v.1916 64 bit (AMD64)]"
  },
  "orig_nbformat": 4,
  "vscode": {
   "interpreter": {
    "hash": "ad2bdc8ecc057115af97d19610ffacc2b4e99fae6737bb82f5d7fb13d2f2c186"
   }
  }
 },
 "nbformat": 4,
 "nbformat_minor": 2
}
