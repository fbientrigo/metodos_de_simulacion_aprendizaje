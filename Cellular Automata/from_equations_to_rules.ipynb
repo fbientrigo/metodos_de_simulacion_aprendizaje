{
 "cells": [
  {
   "attachments": {},
   "cell_type": "markdown",
   "metadata": {},
   "source": [
    "# Expansiones y Estados\n",
    "\n",
    "- Las funciones complicadas que actuan o controlan las variables, pueden expresarse como series de Taylor de manera que se tome un intervalo util de esta\n",
    "\n",
    "- Los puntos pueden tener variables pero seria util si tienen la posibilidad de existir en distintos espacios:\n",
    "    - rapidamente acceso a ver la densidad o un parametro mediante una escala:\n",
    "        . logaritmica\n",
    "        . frecuencia (Fourier coefficientes?)"
   ]
  },
  {
   "cell_type": "code",
   "execution_count": null,
   "metadata": {},
   "outputs": [],
   "source": []
  }
 ],
 "metadata": {
  "language_info": {
   "name": "python"
  },
  "orig_nbformat": 4
 },
 "nbformat": 4,
 "nbformat_minor": 2
}
