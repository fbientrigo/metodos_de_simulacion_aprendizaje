{
 "cells": [
  {
   "attachments": {},
   "cell_type": "markdown",
   "metadata": {},
   "source": [
    "# SVD\n",
    "Se trata de descomponer una matriz en otras 3, $U$ y $V$ son unitarias:\n",
    "$U \\, U^T = I$\n",
    "\n",
    "$$\n",
    "C = U \\Sigma V^T\n",
    "$$"
   ]
  },
  {
   "attachments": {},
   "cell_type": "markdown",
   "metadata": {},
   "source": [
    "$U$ es la matrix con los eigenvectors de $AA^T$\n",
    "\n",
    "$V$ es la matrix con los eigenvectors de $A^TA$"
   ]
  },
  {
   "cell_type": "code",
   "execution_count": 87,
   "metadata": {},
   "outputs": [
    {
     "name": "stdout",
     "output_type": "stream",
     "text": [
      "C\n",
      "[[ 3  2  2]\n",
      " [ 2  3 -2]] \n",
      "\n",
      "CT C\n",
      "[[13 12  2]\n",
      " [12 13 -2]\n",
      " [ 2 -2  8]]\n"
     ]
    }
   ],
   "source": [
    "import numpy as np\n",
    "import matplotlib.pyplot as plt\n",
    "import scipy as sp\n",
    "\n",
    "C = np.array([ [3,2,2], [2,3,-2] ])\n",
    "\n",
    "SquareC = C.T @ C # multiplicacion de matrices\n",
    "\n",
    "print(\"C\")\n",
    "print(C, \"\\n\")\n",
    "print(\"CT C\")\n",
    "print(SquareC)"
   ]
  },
  {
   "attachments": {},
   "cell_type": "markdown",
   "metadata": {},
   "source": [
    "La razon de usar la traspuesta\n",
    "$$ C = U \\Sigma V^T$$\n",
    "$$ C^T C =( U \\Sigma V^T)^T U \\Sigma V^T$$\n",
    "$$ C^T C  = V \\Sigma^T U^T U \\Sigma V^T = V \\Sigma^T \\Sigma V^T $$\n",
    "\n",
    "\n",
    "Buscaremos los eigenvalues y eigenvectors de la matriz $CC^T$"
   ]
  },
  {
   "cell_type": "code",
   "execution_count": 89,
   "metadata": {},
   "outputs": [],
   "source": [
    "eigenvals, eigenvecs = sp.linalg.eig(SquareC)\n",
    "eigenvecs_row = eigenvecs.T # son los vectores columnas, asi que para obtener con notacion de filas"
   ]
  },
  {
   "cell_type": "code",
   "execution_count": 90,
   "metadata": {},
   "outputs": [
    {
     "data": {
      "text/plain": [
       "array([2.50000000e+01, 4.69538746e-15, 9.00000000e+00])"
      ]
     },
     "execution_count": 90,
     "metadata": {},
     "output_type": "execute_result"
    }
   ],
   "source": [
    "eigenvals = eigenvals.real\n",
    "eigenvals"
   ]
  },
  {
   "cell_type": "code",
   "execution_count": 91,
   "metadata": {},
   "outputs": [
    {
     "data": {
      "text/plain": [
       "array([[-7.07106781e-01, -6.66666667e-01,  2.35702260e-01],\n",
       "       [-7.07106781e-01,  6.66666667e-01, -2.35702260e-01],\n",
       "       [ 1.42731104e-17,  3.33333333e-01,  9.42809042e-01]])"
      ]
     },
     "execution_count": 91,
     "metadata": {},
     "output_type": "execute_result"
    }
   ],
   "source": [
    "eigenvecs"
   ]
  },
  {
   "attachments": {},
   "cell_type": "markdown",
   "metadata": {},
   "source": [
    "Demostracion:\n",
    "$$S \\vec v = \\lambda \\vec v$$"
   ]
  },
  {
   "cell_type": "code",
   "execution_count": 92,
   "metadata": {},
   "outputs": [
    {
     "data": {
      "text/plain": [
       "array([-18., -18.,   0.])"
      ]
     },
     "execution_count": 92,
     "metadata": {},
     "output_type": "execute_result"
    }
   ],
   "source": [
    "np.round(SquareC @ eigenvecs[:,0])"
   ]
  },
  {
   "cell_type": "code",
   "execution_count": 93,
   "metadata": {},
   "outputs": [
    {
     "data": {
      "text/plain": [
       "array([-18., -18.,   0.])"
      ]
     },
     "execution_count": 93,
     "metadata": {},
     "output_type": "execute_result"
    }
   ],
   "source": [
    "np.round(eigenvals[0] * eigenvecs[:,0])"
   ]
  },
  {
   "cell_type": "code",
   "execution_count": 94,
   "metadata": {},
   "outputs": [
    {
     "data": {
      "text/plain": [
       "array([False, False, False])"
      ]
     },
     "execution_count": 94,
     "metadata": {},
     "output_type": "execute_result"
    }
   ],
   "source": [
    "# utilizando los vectores columna originales\n",
    "# al compararlo asi podemos acabar con errores, ya que hay un error de maquina\n",
    "# que no son 100% precisos\n",
    "SquareC @ eigenvecs[:,0] == eigenvals[0] * eigenvecs[:,0]"
   ]
  },
  {
   "cell_type": "code",
   "execution_count": 95,
   "metadata": {},
   "outputs": [],
   "source": [
    "eigenvals_C = np.sqrt(eigenvals)\n",
    "\n",
    "V = eigenvecs\n",
    "Sigma = np.diag(eigenvals_C)"
   ]
  },
  {
   "attachments": {},
   "cell_type": "markdown",
   "metadata": {},
   "source": [
    "hasta ahora tenemos Sigma: \n",
    "- $\\Sigma$, una matriz diagonal con los eigenvalues\n",
    "- $V$ Los eigenvectores\n",
    "\n",
    "$$ C = U \\Sigma V^T $$\n",
    "\n",
    "$$ C V = U \\Sigma V^T V =  U \\Sigma$$\n",
    "\n",
    "Aplicamos la inversa de $\\Sigma$ que es facil\n",
    "$$\n",
    "\\Sigma = diag( \\sigma_1, \\sigma_2)\n",
    "$$\n",
    "\n",
    "$$\n",
    "\\Sigma^{-1} = diag( \\frac{1}{\\sigma_1}, \\frac{1}{\\sigma_2})\n",
    "$$\n",
    "\n",
    "Asi encontramos U:\n",
    "$$\n",
    "C V \\Sigma^{-1} = U \\Sigma \\Sigma^{-1} = U\n",
    "$$"
   ]
  },
  {
   "cell_type": "code",
   "execution_count": 97,
   "metadata": {},
   "outputs": [
    {
     "data": {
      "text/plain": [
       "array([[-7.07106781e-01, -1.62022195e-09,  7.07106781e-01],\n",
       "       [-7.07106781e-01, -1.13415537e-08, -7.07106781e-01]])"
      ]
     },
     "execution_count": 97,
     "metadata": {},
     "output_type": "execute_result"
    }
   ],
   "source": [
    "# calculamos C V Sigma^-1\n",
    "\n",
    "Sigma_inv = np.diag(1/eigenvals_C)\n",
    "\n",
    "U = C @ V @ Sigma_inv\n",
    "U"
   ]
  },
  {
   "cell_type": "code",
   "execution_count": 99,
   "metadata": {},
   "outputs": [
    {
     "data": {
      "text/plain": [
       "array([[ 3.,  2.,  2.],\n",
       "       [ 2.,  3., -2.]])"
      ]
     },
     "execution_count": 99,
     "metadata": {},
     "output_type": "execute_result"
    }
   ],
   "source": [
    "# y asi construyo la matriz original\n",
    "U @ Sigma @ V.T"
   ]
  },
  {
   "attachments": {},
   "cell_type": "markdown",
   "metadata": {},
   "source": []
  },
  {
   "cell_type": "code",
   "execution_count": null,
   "metadata": {},
   "outputs": [],
   "source": []
  }
 ],
 "metadata": {
  "kernelspec": {
   "display_name": "base",
   "language": "python",
   "name": "python3"
  },
  "language_info": {
   "codemirror_mode": {
    "name": "ipython",
    "version": 3
   },
   "file_extension": ".py",
   "mimetype": "text/x-python",
   "name": "python",
   "nbconvert_exporter": "python",
   "pygments_lexer": "ipython3",
   "version": "3.9.13 (main, Aug 25 2022, 23:51:50) [MSC v.1916 64 bit (AMD64)]"
  },
  "orig_nbformat": 4,
  "vscode": {
   "interpreter": {
    "hash": "ad2bdc8ecc057115af97d19610ffacc2b4e99fae6737bb82f5d7fb13d2f2c186"
   }
  }
 },
 "nbformat": 4,
 "nbformat_minor": 2
}
