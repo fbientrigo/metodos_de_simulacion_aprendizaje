{
 "cells": [
  {
   "attachments": {},
   "cell_type": "markdown",
   "metadata": {},
   "source": [
    "Existe el Forward Euler y el Backward Euler, comencemos por el euler que definimos en la seccion anterior:"
   ]
  },
  {
   "cell_type": "code",
   "execution_count": 1,
   "metadata": {},
   "outputs": [],
   "source": [
    "def euler_backward(dt, T, xdot, x_0, t_0=0):\n",
    "    \"\"\"\n",
    "    dt es el time step, T es el limite de tiempo\n",
    "    xdot es la función, x_0 es el valor inicial de x\n",
    "    \"\"\"\n",
    "    t_list = []\n",
    "    x_list = [] \n",
    "    t_0\n",
    "\n",
    "    # Euler:\n",
    "    x_n = x_0\n",
    "    while ( t_0 < T): # cuando pasara T cantidad de tiempo, se detiene\n",
    "        # guardamos el punto en la lista\n",
    "        t_list.append(t)\n",
    "        x_list.append(x_n)\n",
    "\n",
    "        # aqui actualizamos\n",
    "        x_n_plus_1 = x_n + dt * xdot(x_n)\n",
    "        x_n = x_n_plus_1 # para la siguiente iteración\n",
    "\n",
    "        t_0 += dt # aumenta el tiempo\n",
    "    \n",
    "    return t_list, x_list"
   ]
  }
 ],
 "metadata": {
  "kernelspec": {
   "display_name": "base",
   "language": "python",
   "name": "python3"
  },
  "language_info": {
   "codemirror_mode": {
    "name": "ipython",
    "version": 3
   },
   "file_extension": ".py",
   "mimetype": "text/x-python",
   "name": "python",
   "nbconvert_exporter": "python",
   "pygments_lexer": "ipython3",
   "version": "3.9.13 (main, Aug 25 2022, 23:51:50) [MSC v.1916 64 bit (AMD64)]"
  },
  "orig_nbformat": 4,
  "vscode": {
   "interpreter": {
    "hash": "ad2bdc8ecc057115af97d19610ffacc2b4e99fae6737bb82f5d7fb13d2f2c186"
   }
  }
 },
 "nbformat": 4,
 "nbformat_minor": 2
}
